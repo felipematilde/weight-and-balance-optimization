{
  "nbformat": 4,
  "nbformat_minor": 0,
  "metadata": {
    "colab": {
      "provenance": [],
      "toc_visible": true,
      "include_colab_link": true
    },
    "kernelspec": {
      "name": "python3",
      "display_name": "Python 3"
    },
    "language_info": {
      "name": "python"
    }
  },
  "cells": [
    {
      "cell_type": "markdown",
      "metadata": {
        "id": "view-in-github",
        "colab_type": "text"
      },
      "source": [
        "<a href=\"https://colab.research.google.com/github/felipematilde/weight-and-balance-optimization/blob/main/model_guroby.ipynb\" target=\"_parent\"><img src=\"https://colab.research.google.com/assets/colab-badge.svg\" alt=\"Open In Colab\"/></a>"
      ]
    },
    {
      "cell_type": "markdown",
      "source": [
        "# Requirements|Imports"
      ],
      "metadata": {
        "id": "UjkiJLJakV0L"
      }
    },
    {
      "cell_type": "code",
      "execution_count": null,
      "metadata": {
        "id": "1zMzeKdki3S8"
      },
      "outputs": [],
      "source": [
        "pip install -i https://pypi.gurobi.com gurobipy\n",
        "import gurobipy as gp\n",
        "from gurobipy import GRB"
      ]
    },
    {
      "cell_type": "markdown",
      "source": [
        "# Create Model"
      ],
      "metadata": {
        "id": "yqwOtbBbknz8"
      }
    },
    {
      "cell_type": "code",
      "source": [
        "m = gp.Model()"
      ],
      "metadata": {
        "id": "5nil4oMQksDn"
      },
      "execution_count": null,
      "outputs": []
    },
    {
      "cell_type": "markdown",
      "source": [
        "# Create Params and Vars"
      ],
      "metadata": {
        "id": "b_tKlnOmkyTM"
      }
    },
    {
      "cell_type": "code",
      "source": [
        "# Params\n",
        "bow = 30000 #Basic Operational Weight - kg\n",
        "arm_bow = 26 #Braço do bow - m\n",
        "fuel_trip = 12000 #Fuel Trip - kg\n",
        "fuel_reserve = 1500 #Fuel Reserve - kg\n",
        "w_avg_a = 90 #Peso médio de um adulto - kg\n",
        "w_avg_c = 40 #Peso médio de uma criança - kg\n",
        "w_avg_i = 10 #Peso médio de um bebê - kg\n",
        "w_lug = 32 #Peso médio de uma mala - kg\n",
        "arm_cabin_1 = 15 #Braço do cabine 1 - m\n",
        "arm_cabin_2 = 25 #Braço do cabine 2 - m\n",
        "arm_cabin_3 = 35 #Braço do cabine 3 - m\n",
        "arm_aft_cargo = 10 #Braço do porão dianteiro - m\n",
        "arm_fwd_cargo = 30 #Braço do porão traseiro - m\n",
        "n_a = 100 #Número de adultos no voo\n",
        "n_c = 10 #Número de crianças no voo\n",
        "n_i = 2 #Número de bebês no voo\n",
        "m_1 = 30 #Número máximo de assentos na cabine 1\n",
        "m_2 = 50 #Número máximo de assentos na cabine 2\n",
        "m_3 = 50 #Número máximo de assentos na cabine 3\n",
        "m_aft_cargo = 2500 #Peso máximo limite estrutural cargo dianteiro - kg\n",
        "m_fwd_cargo = 3000 #Peso máximo limite estrutural cargo traseiro - kg\n",
        "\n",
        "# General Params\n",
        "passanger_types = 3\n",
        "cabins = 3 #Quantidade de cabines\n",
        "adult = 30 #Quantidade total de adultos\n",
        "child = 5 #Quantidade total de crianças\n",
        "infant = 3 #Quantidade total de bebês\n",
        "w_avg_adult = 90 #Peso médio de um adulto - kg\n",
        "w_avg_child = 40 #Peso médio de uma criança - kg\n",
        "w_avg_infant = 10 #Peso médio de um bebê - kg\n",
        "w_lug = 32 #Peso médio de uma mala - kg\n",
        "max_seats = [30,50,50] #Número máximo de assentos na cabine 1\n",
        "m_2 = 50 #Número máximo de assentos na cabine 2\n",
        "m_3 = 50 #Número máximo de assentos na cabine 3\n",
        "max_aft_cargo = 2500 #Peso máximo limite estrutural cargo dianteiro - kg\n",
        "max_fwd_cargo = 3000 #Peso máximo limite estrutural cargo traseiro - kg\n",
        "\n",
        "# Technical Params\n",
        "bow = 30000 #Basic Operational Weight - kg\n",
        "arm_bow = 26 #Braço do bow - m\n",
        "fuel_trip = 12000 #Fuel Trip - kg\n",
        "fuel_reserve = 1500 #Fuel Reserve - kg\n",
        "arm_cabin_1 = 15 #Braço do cabine 1 - m\n",
        "arm_cabin_2 = 25 #Braço do cabine 2 - m\n",
        "arm_cabin_3 = 35 #Braço do cabine 3 - m\n",
        "arm_aft_cargo = 10 #Braço do porão dianteiro - m\n",
        "arm_fwd_cargo = 30 #Braço do porão traseiro - m\n",
        "\n",
        "# Vars\n",
        "x = m.addVars(passanger_types, cabins, vtype=GRB.INTEGER, lb=0)\n",
        "# x1 = m.addVar(vtype=GRB.INTEGER, lb=0)\n",
        "# x2 = m.addVar(vtype=GRB.BINARY, lb=0)\n",
        "# x3 = m.addVar(vtype=GRB.CONTINUOUS, lb=0, ub=1)\n",
        "\n",
        "#=================================================\n",
        "#VARIÁVEIS DO MODELO, A SER BUSCADO PELO GUROBI ==\n",
        "#=================================================\n",
        "x_a_1 = 10 #Número de adultos sentados na cabine 1\n",
        "x_a_2 = 10 #Número de adultos sentados na cabine 2\n",
        "x_a_3 = 10 #Número de adultos sentados na cabine 3\n",
        "x_c_1 = 5 #Número de crianças sentados na cabine 1\n",
        "x_c_2 = 0 #Número de crianças sentados na cabine 2\n",
        "x_c_3 = 0 #Número de crianças sentados na cabine 3\n",
        "x_i_1 = 1 #Número de bebês sentados na cabine 1\n",
        "x_i_2 = 1 #Número de bebês sentados na cabine 2\n",
        "x_i_3 = 1 #Número de bebês sentados na cabine 3\n",
        "x_aft_cargo = 10 #Número de malas no porão dianteiro\n",
        "x_fwd_cargo = 20 #Número de malas no porão traseiro"
      ],
      "metadata": {
        "id": "EpxEM5-wk6uK"
      },
      "execution_count": null,
      "outputs": []
    },
    {
      "cell_type": "markdown",
      "source": [
        "# Objective Function"
      ],
      "metadata": {
        "id": "70DQVtH-lKZ5"
      }
    },
    {
      "cell_type": "code",
      "source": [
        "m.setObjective(sum(c[i][j] * x[i][j] for i in range(passanger_types) for j in range(cabins)), GRB.MAXIMIZE)"
      ],
      "metadata": {
        "id": "nVgsI50JlSGe"
      },
      "execution_count": null,
      "outputs": []
    },
    {
      "cell_type": "markdown",
      "source": [
        "# Constraints"
      ],
      "metadata": {
        "id": "TtYtE9H7lgEn"
      }
    },
    {
      "cell_type": "code",
      "source": [
        "m.addConstr(x1 + x2 + x3 <= 2) # restrição x\n",
        "m.addConstr(x1 + x2 == 1) # restrição y"
      ],
      "metadata": {
        "id": "RFuK0bxAlxLM"
      },
      "execution_count": null,
      "outputs": []
    },
    {
      "cell_type": "markdown",
      "source": [
        "# Otimização"
      ],
      "metadata": {
        "id": "B-T42SYImJqX"
      }
    },
    {
      "cell_type": "code",
      "source": [
        "m.optimize()"
      ],
      "metadata": {
        "id": "yUh443IemLc5"
      },
      "execution_count": null,
      "outputs": []
    },
    {
      "cell_type": "markdown",
      "source": [
        "# Resultados"
      ],
      "metadata": {
        "id": "fnWcEwo52rcL"
      }
    },
    {
      "cell_type": "code",
      "source": [
        "print(\"CG máximo/ótimo: \" + str(m.objVal))\n",
        "print(\"Valor das variáveis:\")\n",
        "print(\"-> x1: \" + str(x1.x))\n",
        "print(\"-> x2: \" + str(x2.x))\n",
        "print(\"-> x3: \" + str(x3.x))"
      ],
      "metadata": {
        "id": "yM1fUDT32uiZ"
      },
      "execution_count": null,
      "outputs": []
    }
  ]
}